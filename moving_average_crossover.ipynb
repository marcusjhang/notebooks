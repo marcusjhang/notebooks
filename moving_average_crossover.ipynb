{
 "cells": [
  {
   "cell_type": "code",
   "execution_count": 9,
   "metadata": {},
   "outputs": [
    {
     "name": "stdout",
     "output_type": "stream",
     "text": [
      "reached 2\n",
      "reached 3\n",
      "reached 4\n",
      "reached 5\n",
      "reached 6\n"
     ]
    },
    {
     "data": {
      "text/plain": [
       "[{'day': 0, 'price': 100, 'short_ma': None, 'long_ma': None},\n",
       " {'day': 1, 'price': 101, 'short_ma': None, 'long_ma': None},\n",
       " {'day': 2, 'price': 102, 'short_ma': 101.0, 'long_ma': None},\n",
       " {'day': 3, 'price': 104, 'short_ma': 102.33333333333333, 'long_ma': None},\n",
       " {'day': 4, 'price': 106, 'short_ma': 104.0, 'long_ma': 102.0},\n",
       " {'day': 5, 'price': 108, 'short_ma': 106.0, 'long_ma': 104.0},\n",
       " {'day': 6, 'price': 110, 'short_ma': 108.0, 'long_ma': 106.0}]"
      ]
     },
     "execution_count": 9,
     "metadata": {},
     "output_type": "execute_result"
    }
   ],
   "source": [
    "def compute_moving_averages(prices, short_window, long_window):\n",
    "    # result\n",
    "    result = []\n",
    "    \n",
    "    # iterate through prices\n",
    "        # check if the number if larger or equals to short_window - 1 -> add short term average\n",
    "\n",
    "        # if number is larger or equals to long_window - 1 -> add long term average\n",
    "\n",
    "        # create dict {'day': 0, 'price': 100, 'short_ma': None, 'long_ma': None}, \n",
    "        # check if short_ma and long_ma have values before adding\n",
    "\n",
    "    for i in range(len(prices)):\n",
    "        if i >= short_window - 1:\n",
    "            total_short = 0\n",
    "            print(\"reached\", i)\n",
    "            for j in range(i, i - short_window, -1):\n",
    "                total_short += prices[j]\n",
    "            short_ma = total_short/short_window\n",
    "        else:\n",
    "            short_ma = None\n",
    "\n",
    "        if i >= long_window - 1:\n",
    "            total_long = 0\n",
    "            for k in range(i, i - long_window, -1):\n",
    "                total_long += prices[j]\n",
    "            long_ma = total_long/long_window\n",
    "        else:\n",
    "            long_ma = None\n",
    "\n",
    "        result.append({\n",
    "            \"day\": i,\n",
    "            \"price\": prices[i],\n",
    "            \"short_ma\": short_ma,\n",
    "            \"long_ma\": long_ma\n",
    "        })\n",
    "\n",
    "    return result\n",
    "\n",
    "compute_moving_averages([100, 101, 102, 104, 106, 108, 110], 3, 5)\n"
   ]
  },
  {
   "cell_type": "code",
   "execution_count": 1,
   "metadata": {},
   "outputs": [
    {
     "data": {
      "text/plain": [
       "['HOLD', 'HOLD', 'HOLD', 'HOLD', 'BUY', 'BUY', 'BUY']"
      ]
     },
     "execution_count": 1,
     "metadata": {},
     "output_type": "execute_result"
    }
   ],
   "source": [
    "def generate_trade_signals(moving_data):\n",
    "    # buy when short_ma crosses long_ma -> bullish crossover (upwards trend is hinted at)\n",
    "    # sell when long_ma crosses short_ma -> bearish crossover (downwards trend is hinted at)\n",
    "\n",
    "    # iterate through all sets of data\n",
    "        # compare short_ma and long_ma (if one is None, no comparison, automatically HOLD)\n",
    "\n",
    "    result = []\n",
    "\n",
    "    for entry in moving_data:\n",
    "        if entry['short_ma'] == None or entry['long_ma'] == None:\n",
    "            result.append(\"HOLD\")\n",
    "            continue\n",
    "        else:\n",
    "            if entry['short_ma'] > entry['long_ma']:\n",
    "                result.append(\"BUY\")\n",
    "            elif entry['long_ma'] > entry['short_ma']:\n",
    "                result.append(\"SELL\")\n",
    "            else:\n",
    "                result.append(\"HOLD\")\n",
    "\n",
    "    return result\n",
    "\n",
    "moving_data = [\n",
    "    {'day': 0, 'price': 100, 'short_ma': None,   'long_ma': None},\n",
    "    {'day': 1, 'price': 101, 'short_ma': None,   'long_ma': None},\n",
    "    {'day': 2, 'price': 102, 'short_ma': 101.0,  'long_ma': None},\n",
    "    {'day': 3, 'price': 104, 'short_ma': 102.33, 'long_ma': None},\n",
    "    {'day': 4, 'price': 106, 'short_ma': 104.0,  'long_ma': 102.6},\n",
    "    {'day': 5, 'price': 108, 'short_ma': 106.0,  'long_ma': 104.2},\n",
    "    {'day': 6, 'price': 110, 'short_ma': 108.0,  'long_ma': 106.0}\n",
    "]\n",
    "\n",
    "generate_trade_signals(moving_data)"
   ]
  },
  {
   "cell_type": "code",
   "execution_count": 2,
   "metadata": {},
   "outputs": [
    {
     "ename": "ZeroDivisionError",
     "evalue": "integer division or modulo by zero",
     "output_type": "error",
     "traceback": [
      "\u001b[0;31m---------------------------------------------------------------------------\u001b[0m",
      "\u001b[0;31mZeroDivisionError\u001b[0m                         Traceback (most recent call last)",
      "Cell \u001b[0;32mIn[2], line 30\u001b[0m\n\u001b[1;32m     28\u001b[0m signals \u001b[38;5;241m=\u001b[39m [\u001b[38;5;124m\"\u001b[39m\u001b[38;5;124mHOLD\u001b[39m\u001b[38;5;124m\"\u001b[39m, \u001b[38;5;124m\"\u001b[39m\u001b[38;5;124mHOLD\u001b[39m\u001b[38;5;124m\"\u001b[39m, \u001b[38;5;124m\"\u001b[39m\u001b[38;5;124mHOLD\u001b[39m\u001b[38;5;124m\"\u001b[39m, \u001b[38;5;124m\"\u001b[39m\u001b[38;5;124mHOLD\u001b[39m\u001b[38;5;124m\"\u001b[39m, \u001b[38;5;124m\"\u001b[39m\u001b[38;5;124mBUY\u001b[39m\u001b[38;5;124m\"\u001b[39m, \u001b[38;5;124m\"\u001b[39m\u001b[38;5;124mHOLD\u001b[39m\u001b[38;5;124m\"\u001b[39m, \u001b[38;5;124m\"\u001b[39m\u001b[38;5;124mHOLD\u001b[39m\u001b[38;5;124m\"\u001b[39m]\n\u001b[1;32m     29\u001b[0m initial_cash \u001b[38;5;241m=\u001b[39m \u001b[38;5;241m1000\u001b[39m\n\u001b[0;32m---> 30\u001b[0m \u001b[43msimulate_trading\u001b[49m\u001b[43m(\u001b[49m\u001b[43mprices\u001b[49m\u001b[43m,\u001b[49m\u001b[43m \u001b[49m\u001b[43msignals\u001b[49m\u001b[43m,\u001b[49m\u001b[43m \u001b[49m\u001b[43minitial_cash\u001b[49m\u001b[43m)\u001b[49m\n",
      "Cell \u001b[0;32mIn[2], line 12\u001b[0m, in \u001b[0;36msimulate_trading\u001b[0;34m(prices, signals, initial_cash)\u001b[0m\n\u001b[1;32m     10\u001b[0m \u001b[38;5;28;01mfor\u001b[39;00m i \u001b[38;5;129;01min\u001b[39;00m \u001b[38;5;28mrange\u001b[39m(\u001b[38;5;28mlen\u001b[39m(prices)):\n\u001b[1;32m     11\u001b[0m     \u001b[38;5;28;01mif\u001b[39;00m signals[i] \u001b[38;5;241m==\u001b[39m \u001b[38;5;124m\"\u001b[39m\u001b[38;5;124mBUY\u001b[39m\u001b[38;5;124m\"\u001b[39m:\n\u001b[0;32m---> 12\u001b[0m         number_stocks \u001b[38;5;241m=\u001b[39m \u001b[43mcash\u001b[49m\u001b[43m \u001b[49m\u001b[38;5;241;43m/\u001b[39;49m\u001b[38;5;241;43m/\u001b[39;49m\u001b[43m \u001b[49m\u001b[43mstocks\u001b[49m\n\u001b[1;32m     13\u001b[0m         stocks \u001b[38;5;241m+\u001b[39m\u001b[38;5;241m=\u001b[39m number_stocks\n\u001b[1;32m     14\u001b[0m         cash \u001b[38;5;241m-\u001b[39m\u001b[38;5;241m=\u001b[39m number_stocks\u001b[38;5;241m*\u001b[39mprices[i]\n",
      "\u001b[0;31mZeroDivisionError\u001b[0m: integer division or modulo by zero"
     ]
    }
   ],
   "source": [
    "def simulate_trading(prices, signals, initial_cash):\n",
    "    stocks = 0\n",
    "    cash = initial_cash\n",
    "\n",
    "    # iterate through each buy/sell/hold\n",
    "        # if buy, buy as many as you can with your cash\n",
    "\n",
    "        # if sell,sell all your shares\n",
    "\n",
    "    for i in range(len(prices)):\n",
    "        if signals[i] == \"BUY\":\n",
    "            number_stocks = cash // prices[i]\n",
    "            stocks += number_stocks\n",
    "            cash -= number_stocks*prices[i]\n",
    "        elif signals[i] == \"SELL\":\n",
    "            cash += stocks*prices[i]\n",
    "            stocks = 0\n",
    "        else:\n",
    "            continue\n",
    "\n",
    "    return {\n",
    "        'final': cash,\n",
    "        'final_shares': stocks,\n",
    "        'portfolio_value': cash + stocks * prices[-1]\n",
    "    }\n",
    "\n",
    "prices = [100, 101, 102, 104, 106, 108, 110]\n",
    "signals = [\"HOLD\", \"HOLD\", \"HOLD\", \"HOLD\", \"BUY\", \"HOLD\", \"HOLD\"]\n",
    "initial_cash = 1000\n",
    "simulate_trading(prices, signals, initial_cash)"
   ]
  }
 ],
 "metadata": {
  "kernelspec": {
   "display_name": "Python 3",
   "language": "python",
   "name": "python3"
  },
  "language_info": {
   "codemirror_mode": {
    "name": "ipython",
    "version": 3
   },
   "file_extension": ".py",
   "mimetype": "text/x-python",
   "name": "python",
   "nbconvert_exporter": "python",
   "pygments_lexer": "ipython3",
   "version": "3.8.10"
  }
 },
 "nbformat": 4,
 "nbformat_minor": 2
}
